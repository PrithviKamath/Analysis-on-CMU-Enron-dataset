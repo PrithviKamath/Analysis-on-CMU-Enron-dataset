{
 "cells": [
  {
   "cell_type": "code",
   "execution_count": 1,
   "metadata": {
    "collapsed": true
   },
   "outputs": [],
   "source": [
    "#importing required packages\n",
    "import os\n",
    "from email.parser import Parser\n",
    "import nltk\n",
    "from nltk.tokenize import word_tokenize\n",
    "from nltk.corpus import stopwords"
   ]
  },
  {
   "cell_type": "code",
   "execution_count": 2,
   "metadata": {
    "collapsed": false
   },
   "outputs": [],
   "source": [
    "#initializations\n",
    "email_body=[]\n",
    "filename_list=[]\n",
    "path=\"C:/Users/prith/Documents/PrithviPython/kamath_prithvi_spring2017/midterm/data/enron/enron_mail_20150507/maildir/lay-k/deleted_items\"\n",
    "\n",
    "#traversing through various directories, subdirectories and files and finding the word 'bankruptcy' in each file.\n",
    "for directory, subdirectory, filenames in  os.walk(path):\n",
    "    for filename in filenames:\n",
    "        with open(os.path.join(directory, filename), \"r\") as f:\n",
    "            data = f.read()\n",
    "        email_body=[]\n",
    "        email = Parser().parsestr(data)\n",
    "        email_body.append(email.get_payload())\n",
    "        for element in email_body:\n",
    "            for word in element.rstrip().split(' '):\n",
    "                if word == 'bankruptcy':\n",
    "                    filename_list.append(directory+\"\\\\\"+filename)"
   ]
  },
  {
   "cell_type": "code",
   "execution_count": 3,
   "metadata": {
    "collapsed": false
   },
   "outputs": [],
   "source": [
    "#Find the frequency of the word in each file.\n",
    "filecount={}\n",
    "for file in filename_list:\n",
    "    if file not in filecount:\n",
    "        filecount[file] = 1\n",
    "    else:\n",
    "        filecount[file] += 1\n",
    "sorted_files=sorted(filecount.items(), key=lambda x: x[1], reverse=True)"
   ]
  },
  {
   "cell_type": "code",
   "execution_count": 4,
   "metadata": {
    "collapsed": false
   },
   "outputs": [
    {
     "data": {
      "text/plain": [
       "1126"
      ]
     },
     "execution_count": 4,
     "metadata": {},
     "output_type": "execute_result"
    }
   ],
   "source": [
    "#count of total number of files\n",
    "len(filenames)"
   ]
  },
  {
   "cell_type": "code",
   "execution_count": 5,
   "metadata": {
    "collapsed": false
   },
   "outputs": [
    {
     "data": {
      "text/plain": [
       "1121"
      ]
     },
     "execution_count": 5,
     "metadata": {},
     "output_type": "execute_result"
    }
   ],
   "source": [
    "#count of files which have 'bankruptcy' used twice\n",
    "len(sorted_files)"
   ]
  },
  {
   "cell_type": "code",
   "execution_count": null,
   "metadata": {
    "collapsed": true
   },
   "outputs": [],
   "source": [
    "#On checking the output we understand that every file has the word 'bankruptcy' occuring 2 times.\n",
    "#On closer inspection we understand that body of these emails are same with the only change in salutations.\n",
    "#Hence we can conclude that there might have been a survey or a poll conducted after the Enron scandle was publisized \n",
    "#and the people who signed up for this survey have sent the same mail to My Kenneth Lay"
   ]
  }
 ],
 "metadata": {
  "anaconda-cloud": {},
  "kernelspec": {
   "display_name": "Python [default]",
   "language": "python",
   "name": "python3"
  },
  "language_info": {
   "codemirror_mode": {
    "name": "ipython",
    "version": 3
   },
   "file_extension": ".py",
   "mimetype": "text/x-python",
   "name": "python",
   "nbconvert_exporter": "python",
   "pygments_lexer": "ipython3",
   "version": "3.5.2"
  }
 },
 "nbformat": 4,
 "nbformat_minor": 1
}
