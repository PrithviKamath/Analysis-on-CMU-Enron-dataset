{
 "cells": [
  {
   "cell_type": "markdown",
   "metadata": {},
   "source": [
    "Find the list of people who have sent and received maximum number of emails."
   ]
  },
  {
   "cell_type": "code",
   "execution_count": 1,
   "metadata": {
    "collapsed": true
   },
   "outputs": [],
   "source": [
    "#importing required packages\n",
    "import os\n",
    "from email.parser import Parser"
   ]
  },
  {
   "cell_type": "code",
   "execution_count": 2,
   "metadata": {
    "collapsed": true
   },
   "outputs": [],
   "source": [
    "#function to read file and append 'to_email', 'from_email' and 'email_body' lists\n",
    "def email_analyse(inputfile, to_email_list, from_email_list, email_body):\n",
    "    with open(inputfile, \"r\") as f:\n",
    "        data = f.read()\n",
    "     \n",
    "    email = Parser().parsestr(data)\n",
    "    \n",
    "    email_to=email['to']\n",
    "    \n",
    "    #to check for None value\n",
    "    if(email['to'] is not None):\n",
    "        #removing tab, new line and spaces\n",
    "        email_to=email_to.replace(\"\\n\",\"\")\n",
    "        email_to=email_to.replace(\"\\t\",\"\")\n",
    "        email_to=email_to.replace(\" \",\"\")\n",
    "        \n",
    "        #spliting each element by ','\n",
    "        email_to=email_to.split(\",\")\n",
    "       \n",
    "        for email_to_1 in email_to:\n",
    "            to_email_list.append(email_to_1)\n",
    "\n",
    "    from_email_list.append(email['from'])\n",
    "    email_body.append(email.get_payload())"
   ]
  },
  {
   "cell_type": "code",
   "execution_count": 3,
   "metadata": {
    "collapsed": false
   },
   "outputs": [
    {
     "name": "stdout",
     "output_type": "stream",
     "text": [
      "Top 10 names and their frequencies are: \n",
      "[('richard.shapiro@enron.com', 15148), ('jeff.dasovich@enron.com', 14206), ('tana.jones@enron.com', 12828), ('steven.kean@enron.com', 12752), ('sara.shackleton@enron.com', 11433), ('james.steffes@enron.com', 10343), ('mark.taylor@enron.com', 9786), ('pete.davis@enron.com', 9281), ('susan.mara@enron.com', 9063), ('paul.kaufman@enron.com', 8521)]\n",
      "Top 10 names and their frequencies are: \n",
      "[('kay.mann@enron.com', 16735), ('vince.kaminski@enron.com', 14368), ('jeff.dasovich@enron.com', 11411), ('pete.davis@enron.com', 9149), ('chris.germany@enron.com', 8801), ('sara.shackleton@enron.com', 8777), ('enron.announcements@enron.com', 8587), ('tana.jones@enron.com', 8490), ('steven.kean@enron.com', 6759), ('kate.symes@enron.com', 5438)]\n"
     ]
    }
   ],
   "source": [
    "#initializations\n",
    "to_email_list=[]\n",
    "from_email_list=[]\n",
    "email_body=[]\n",
    "to_names_list={}\n",
    "from_names_list={}\n",
    "path=\"C:/Users/prith/Documents/PrithviPython/kamath_prithvi_spring2017/midterm/data/enron/enron_mail_20150507/maildir/\"\n",
    "\n",
    "#traversing through various directories, subdirectories and files\n",
    "for directory, subdirectory, filenames in  os.walk(path):\n",
    "    for filename in filenames:\n",
    "        email_analyse(os.path.join(directory, filename), to_email_list, from_email_list, email_body )\n",
    "\n",
    "#for loop to count the occurances of each email receiver\n",
    "for name in to_email_list:\n",
    "    if name not in to_names_list:\n",
    "        to_names_list[name] = 1\n",
    "    else:\n",
    "        to_names_list[name] += 1\n",
    "\n",
    "to_sorted_names=[]\n",
    "to_sorted_names=sorted(to_names_list.items(), key=lambda x: x[1], reverse=True)\n",
    "print(\"Top 10 names and their frequencies are: \")\n",
    "print(to_sorted_names[:10])\n",
    "\n",
    "#for loop to count the occurances of each email sender\n",
    "for name in from_email_list:\n",
    "    if name not in from_names_list:\n",
    "        from_names_list[name] = 1\n",
    "    else:\n",
    "        from_names_list[name] += 1\n",
    "\n",
    "from_sorted_names=[]\n",
    "from_sorted_names=sorted(from_names_list.items(), key=lambda x: x[1], reverse=True)\n",
    "print(\"Top 10 names and their frequencies are: \")\n",
    "print(from_sorted_names[:10])"
   ]
  },
  {
   "cell_type": "code",
   "execution_count": 4,
   "metadata": {
    "collapsed": false
   },
   "outputs": [],
   "source": [
    "#Check if a directory exists in the path or not;if not create one\n",
    "def dir(file_path,directory_name):\n",
    "    if not os.path.exists(file_path+\"/\"+directory_name):\n",
    "        os.mkdir(file_path+\"/\"+directory_name)\n",
    "    return file_path+\"/\"+directory_name\n",
    "\n",
    "current_directory = os.getcwd() #To access the path of current working directory\n",
    "#print(current_directory)\n",
    "parent_directory=\"Output\"\n",
    "#print(parent_directory)\n",
    "first_path=dir(current_directory,parent_directory)\n",
    "#print(first_path)"
   ]
  },
  {
   "cell_type": "code",
   "execution_count": 5,
   "metadata": {
    "collapsed": false
   },
   "outputs": [],
   "source": [
    "#saving the first 25 names into csv files\n",
    "with open(\"Output/to_email_list.csv\", \"w\") as f:\n",
    "    f.write('\\n'.join('%s %s' % x for x in to_sorted_names[:25]))\n",
    "    f.write(\"\\n\")\n",
    "        \n",
    "with open(\"Output/from_email_list.csv\", \"w\") as f:\n",
    "    f.write('\\n'.join('%s %s' % x for x in from_sorted_names[:25]))\n",
    "    f.write(\"\\n\")        \n",
    "\n",
    "#the same can be done for body of all the emails using the below commented code\n",
    "'''\n",
    "with open(\"Output/email_body.csv\", \"w\") as f:\n",
    "    for email_bod in email_body[:25]:\n",
    "        if email_bod:\n",
    "            f.write(email_bod)\n",
    "            f.write(\"\\n\")\n",
    "'''"
   ]
  },
  {
   "cell_type": "markdown",
   "metadata": {},
   "source": [
    "Output has been saved into csv files in an Output folder."
   ]
  }
 ],
 "metadata": {
  "anaconda-cloud": {},
  "kernelspec": {
   "display_name": "Python [default]",
   "language": "python",
   "name": "python3"
  },
  "language_info": {
   "codemirror_mode": {
    "name": "ipython",
    "version": 3
   },
   "file_extension": ".py",
   "mimetype": "text/x-python",
   "name": "python",
   "nbconvert_exporter": "python",
   "pygments_lexer": "ipython3",
   "version": "3.5.2"
  }
 },
 "nbformat": 4,
 "nbformat_minor": 1
}
