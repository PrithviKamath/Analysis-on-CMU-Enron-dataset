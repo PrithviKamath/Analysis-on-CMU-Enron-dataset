{
 "cells": [
  {
   "cell_type": "markdown",
   "metadata": {},
   "source": [
    "Find the frequency of words in Mr. Kenneth Lay’s emails in the deleted_item folder"
   ]
  },
  {
   "cell_type": "code",
   "execution_count": 1,
   "metadata": {
    "collapsed": true
   },
   "outputs": [],
   "source": [
    "#importing required packages\n",
    "import os\n",
    "from email.parser import Parser\n",
    "import nltk\n",
    "from nltk.corpus import stopwords"
   ]
  },
  {
   "cell_type": "code",
   "execution_count": 2,
   "metadata": {
    "collapsed": true
   },
   "outputs": [],
   "source": [
    "#initializations\n",
    "email_body=[]"
   ]
  },
  {
   "cell_type": "code",
   "execution_count": 3,
   "metadata": {
    "collapsed": false
   },
   "outputs": [
    {
     "name": "stdout",
     "output_type": "stream",
     "text": [
      "File imported\n"
     ]
    }
   ],
   "source": [
    "#Get current working directory\n",
    "cwd = os.getcwd()\n",
    "#Check for 'Input Data' folder and find 'sent_mail' folder under 'mann-k'\n",
    "parent_directory=\"Input Data\"\n",
    "if os.path.exists(cwd+\"/\"+parent_directory):\n",
    "    path=cwd+\"/\"+parent_directory\n",
    "    if os.path.exists(path+'/enron_mail_20150507/maildir/lay-k/deleted_items'):\n",
    "        path=path+'/enron_mail_20150507/maildir/lay-k/deleted_items'\n",
    "        #traversing through various directories, subdirectories and files\n",
    "        for directory, subdirectory, filenames in  os.walk(path):\n",
    "            for filename in filenames:\n",
    "                with open(os.path.join(directory, filename), \"r\") as f:\n",
    "                    data = f.read()\n",
    "                email = Parser().parsestr(data)\n",
    "                email_body.append(email.get_payload())\n",
    "        print('File imported')\n",
    "    else:\n",
    "        print(\"File does not exist\")\n",
    "else:\n",
    "    print('Path does not exist.')"
   ]
  },
  {
   "cell_type": "code",
   "execution_count": 4,
   "metadata": {
    "collapsed": true
   },
   "outputs": [],
   "source": [
    "#extract words using split\n",
    "parts=[]\n",
    "for element in email_body:\n",
    "    for email in element.rstrip().split(' '):\n",
    "        parts.append(email)"
   ]
  },
  {
   "cell_type": "code",
   "execution_count": 5,
   "metadata": {
    "collapsed": false
   },
   "outputs": [
    {
     "name": "stdout",
     "output_type": "stream",
     "text": [
      "Top 15 words and their frequencies are: \n"
     ]
    },
    {
     "data": {
      "text/plain": [
       "[('Enron', 5552),\n",
       " ('energy', 3322),\n",
       " ('consumers', 3206),\n",
       " ('made', 3142),\n",
       " ('employees', 2242),\n",
       " ('donate', 2236),\n",
       " ('stock', 2233),\n",
       " ('retirement', 2219),\n",
       " ('bankruptcy', 2205),\n",
       " ('California', 2186),\n",
       " ('millions', 2148),\n",
       " ('pay', 2132),\n",
       " ('declared', 2099),\n",
       " ('company', 2042),\n",
       " ('funds', 1127)]"
      ]
     },
     "execution_count": 5,
     "metadata": {},
     "output_type": "execute_result"
    }
   ],
   "source": [
    "#create a dictionary containing words and its frequency\n",
    "wordcount={}\n",
    "for word in parts:\n",
    "    if word.isalpha():\n",
    "        if word not in stopwords.words():\n",
    "            if word not in wordcount:\n",
    "                wordcount[word] = 1\n",
    "            else:\n",
    "                wordcount[word] += 1\n",
    "sorted_words=sorted(wordcount.items(), key=lambda x: x[1], reverse=True)\n",
    "print(\"Top 15 words and their frequencies are: \")\n",
    "sorted_words[:15]"
   ]
  },
  {
   "cell_type": "code",
   "execution_count": 6,
   "metadata": {
    "collapsed": false,
    "scrolled": true
   },
   "outputs": [
    {
     "data": {
      "image/png": "[encoded data removed]",
      "text/plain": [
       "<matplotlib.figure.Figure at 0x134f35f9048>"
      ]
     },
     "metadata": {},
     "output_type": "display_data"
    }
   ],
   "source": [
    "#generate a bar graph using the above generated frequency dictionary\n",
    "import matplotlib.pyplot as plt\n",
    "\n",
    "plt.bar(range(len(wordcount)), wordcount.values(), align='center')\n",
    "plt.xticks(range(len(wordcount)), wordcount.keys())\n",
    "plt.gca().invert_xaxis()\n",
    "\n",
    "plt.show()"
   ]
  },
  {
   "cell_type": "code",
   "execution_count": null,
   "metadata": {
    "collapsed": true
   },
   "outputs": [],
   "source": [
    "#The word 'bankruptcy' stands out among the list of top words.\n",
    "#Hence we find the number of emails in this deleted folder that contain 'bankruptcy'\n",
    "#We traverse using the same technique and save append the filenames containing the 'bankruptcy' to a 'filename_list' list."
   ]
  },
  {
   "cell_type": "code",
   "execution_count": 8,
   "metadata": {
    "collapsed": false
   },
   "outputs": [
    {
     "name": "stdout",
     "output_type": "stream",
     "text": [
      "File imported\n"
     ]
    }
   ],
   "source": [
    "#initializations\n",
    "email_body=[]\n",
    "filename_list=[]\n",
    "#Get current working directory\n",
    "cwd = os.getcwd()\n",
    "#Check for 'Input Data' folder and find 'sent_mail' folder under 'mann-k'\n",
    "parent_directory=\"Input Data\"\n",
    "if os.path.exists(cwd+\"/\"+parent_directory):\n",
    "    path=cwd+\"/\"+parent_directory\n",
    "    if os.path.exists(path+'/enron_mail_20150507/maildir/lay-k/deleted_items'):\n",
    "        path=path+'/enron_mail_20150507/maildir/lay-k/deleted_items'\n",
    "        #traversing through various directories, subdirectories and files and finding the word 'bankruptcy' in each file.\n",
    "        for directory, subdirectory, filenames in  os.walk(path):\n",
    "            for filename in filenames:\n",
    "                with open(os.path.join(directory, filename), \"r\") as f:\n",
    "                    data = f.read()\n",
    "                email_body=[]\n",
    "                email = Parser().parsestr(data)\n",
    "                email_body.append(email.get_payload())\n",
    "                for element in email_body:\n",
    "                    for word in element.rstrip().split(' '):\n",
    "                        if word == 'bankruptcy':\n",
    "                            filename_list.append(directory+\"\\\\\"+filename)\n",
    "        print('File imported')\n",
    "    else:\n",
    "        print(\"File does not exist\")\n",
    "else:\n",
    "    print('Path does not exist.')"
   ]
  },
  {
   "cell_type": "code",
   "execution_count": 9,
   "metadata": {
    "collapsed": true
   },
   "outputs": [],
   "source": [
    "#Find the frequency of the word in each file.\n",
    "filecount={}\n",
    "for file in filename_list:\n",
    "    if file not in filecount:\n",
    "        filecount[file] = 1\n",
    "    else:\n",
    "        filecount[file] += 1\n",
    "sorted_files=sorted(filecount.items(), key=lambda x: x[1], reverse=True)"
   ]
  },
  {
   "cell_type": "code",
   "execution_count": 10,
   "metadata": {
    "collapsed": false
   },
   "outputs": [
    {
     "data": {
      "text/plain": [
       "1126"
      ]
     },
     "execution_count": 10,
     "metadata": {},
     "output_type": "execute_result"
    }
   ],
   "source": [
    "#count of total number of files\n",
    "len(filenames)"
   ]
  },
  {
   "cell_type": "code",
   "execution_count": 11,
   "metadata": {
    "collapsed": false
   },
   "outputs": [
    {
     "data": {
      "text/plain": [
       "1121"
      ]
     },
     "execution_count": 11,
     "metadata": {},
     "output_type": "execute_result"
    }
   ],
   "source": [
    "#count of files which have 'bankruptcy' used twice\n",
    "len(sorted_files)"
   ]
  },
  {
   "cell_type": "code",
   "execution_count": null,
   "metadata": {
    "collapsed": true
   },
   "outputs": [],
   "source": [
    "#On checking the output we understand that every file has the word 'bankruptcy' occuring 2 times.\n",
    "#On closer inspection we understand that body of these emails are same with the only change in salutations.\n",
    "#Hence we can conclude that there might have been a survey or a poll conducted after the Enron scandle was publisized \n",
    "#and the people who signed up for this survey have sent the same mail to My Kenneth Lay"
   ]
  },
  {
   "cell_type": "code",
   "execution_count": null,
   "metadata": {
    "collapsed": true
   },
   "outputs": [],
   "source": []
  }
 ],
 "metadata": {
  "anaconda-cloud": {},
  "kernelspec": {
   "display_name": "Python [default]",
   "language": "python",
   "name": "python3"
  },
  "language_info": {
   "codemirror_mode": {
    "name": "ipython",
    "version": 3
   },
   "file_extension": ".py",
   "mimetype": "text/x-python",
   "name": "python",
   "nbconvert_exporter": "python",
   "pygments_lexer": "ipython3",
   "version": "3.5.2"
  }
 },
 "nbformat": 4,
 "nbformat_minor": 1
}
