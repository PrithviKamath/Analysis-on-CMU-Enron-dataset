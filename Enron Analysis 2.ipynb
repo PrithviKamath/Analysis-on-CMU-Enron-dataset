{
 "cells": [
  {
   "cell_type": "markdown",
   "metadata": {},
   "source": [
    "Find the frequency of words in Mr. Kenneth Lay’s emails in the deleted_item folder"
   ]
  },
  {
   "cell_type": "code",
   "execution_count": 1,
   "metadata": {
    "collapsed": true
   },
   "outputs": [],
   "source": [
    "#importing required packages\n",
    "import os\n",
    "from email.parser import Parser\n",
    "import nltk\n",
    "from nltk.corpus import stopwords"
   ]
  },
  {
   "cell_type": "code",
   "execution_count": 2,
   "metadata": {
    "collapsed": false,
    "scrolled": true
   },
   "outputs": [],
   "source": [
    "#initializations\n",
    "email_body=[]\n",
    "path=\"C:/Users/prith/Documents/PrithviPython/kamath_prithvi_spring2017/midterm/data/enron/enron_mail_20150507/maildir/lay-k/deleted_items\"\n",
    "\n",
    "#traversing through various directories, subdirectories and files\n",
    "for directory, subdirectory, filenames in  os.walk(path):\n",
    "    for filename in filenames:\n",
    "        with open(os.path.join(directory, filename), \"r\") as f:\n",
    "            data = f.read()\n",
    "        email = Parser().parsestr(data)\n",
    "        email_body.append(email.get_payload())"
   ]
  },
  {
   "cell_type": "code",
   "execution_count": 3,
   "metadata": {
    "collapsed": true
   },
   "outputs": [],
   "source": [
    "#extract words using split\n",
    "parts=[]\n",
    "for element in email_body:\n",
    "    for email in element.rstrip().split(' '):\n",
    "        parts.append(email)"
   ]
  },
  {
   "cell_type": "code",
   "execution_count": 4,
   "metadata": {
    "collapsed": false
   },
   "outputs": [
    {
     "name": "stdout",
     "output_type": "stream",
     "text": [
      "Top 15 words and their frequencies are: \n"
     ]
    },
    {
     "data": {
      "text/plain": [
       "[('Enron', 5552),\n",
       " ('energy', 3322),\n",
       " ('consumers', 3206),\n",
       " ('made', 3142),\n",
       " ('employees', 2242),\n",
       " ('donate', 2236),\n",
       " ('stock', 2233),\n",
       " ('retirement', 2219),\n",
       " ('bankruptcy', 2205),\n",
       " ('California', 2186),\n",
       " ('millions', 2148),\n",
       " ('pay', 2132),\n",
       " ('declared', 2099),\n",
       " ('company', 2042),\n",
       " ('funds', 1127)]"
      ]
     },
     "execution_count": 4,
     "metadata": {},
     "output_type": "execute_result"
    }
   ],
   "source": [
    "#create a dictionary containing words and its frequency\n",
    "wordcount={}\n",
    "for word in parts:\n",
    "    if word.isalpha():\n",
    "        if word not in stopwords.words():\n",
    "            if word not in wordcount:\n",
    "                wordcount[word] = 1\n",
    "            else:\n",
    "                wordcount[word] += 1\n",
    "sorted_words=sorted(wordcount.items(), key=lambda x: x[1], reverse=True)\n",
    "print(\"Top 15 words and their frequencies are: \")\n",
    "sorted_words[:15]"
   ]
  },
  {
   "cell_type": "code",
   "execution_count": 5,
   "metadata": {
    "collapsed": false
   },
   "outputs": [
    {
     "data": {
      "image/png": "[encoded data removed]",
      "text/plain": [
       "<matplotlib.figure.Figure at 0x1c62111bdd8>"
      ]
     },
     "metadata": {},
     "output_type": "display_data"
    }
   ],
   "source": [
    "#generate a bar graph using the above generated frequency dictionary\n",
    "import matplotlib.pyplot as plt\n",
    "\n",
    "plt.bar(range(len(wordcount)), wordcount.values(), align='center')\n",
    "plt.xticks(range(len(wordcount)), wordcount.keys())\n",
    "plt.gca().invert_xaxis()\n",
    "\n",
    "plt.show()"
   ]
  }
 ],
 "metadata": {
  "anaconda-cloud": {},
  "kernelspec": {
   "display_name": "Python [default]",
   "language": "python",
   "name": "python3"
  },
  "language_info": {
   "codemirror_mode": {
    "name": "ipython",
    "version": 3
   },
   "file_extension": ".py",
   "mimetype": "text/x-python",
   "name": "python",
   "nbconvert_exporter": "python",
   "pygments_lexer": "ipython3",
   "version": "3.5.2"
  }
 },
 "nbformat": 4,
 "nbformat_minor": 1
}
